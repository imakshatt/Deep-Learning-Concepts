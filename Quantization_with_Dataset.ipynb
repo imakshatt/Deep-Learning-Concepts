{
  "cells": [
    {
      "cell_type": "markdown",
      "metadata": {
        "id": "view-in-github",
        "colab_type": "text"
      },
      "source": [
        "<a href=\"https://colab.research.google.com/github/imakshatt/Deep-Learning-Concepts/blob/main/Quantization_with_Dataset.ipynb\" target=\"_parent\"><img src=\"https://colab.research.google.com/assets/colab-badge.svg\" alt=\"Open In Colab\"/></a>"
      ]
    },
    {
      "cell_type": "markdown",
      "metadata": {
        "id": "NMvU7UFX7ntx"
      },
      "source": [
        "Use MNIST in LeNet5 model"
      ]
    },
    {
      "cell_type": "code",
      "source": [
        "!pip install torch torchvision torchaudio --extra-index-url https://download.pytorch.org/whl/cu118"
      ],
      "metadata": {
        "colab": {
          "base_uri": "https://localhost:8080/"
        },
        "id": "D1riA7JnE7ud",
        "outputId": "3062e7e9-a402-4868-dbf9-6184313e6ae9"
      },
      "execution_count": 1,
      "outputs": [
        {
          "output_type": "stream",
          "name": "stdout",
          "text": [
            "Looking in indexes: https://pypi.org/simple, https://download.pytorch.org/whl/cu118\n",
            "Requirement already satisfied: torch in /usr/local/lib/python3.10/dist-packages (2.4.0+cu121)\n",
            "Requirement already satisfied: torchvision in /usr/local/lib/python3.10/dist-packages (0.19.0+cu121)\n",
            "Requirement already satisfied: torchaudio in /usr/local/lib/python3.10/dist-packages (2.4.0+cu121)\n",
            "Requirement already satisfied: filelock in /usr/local/lib/python3.10/dist-packages (from torch) (3.16.0)\n",
            "Requirement already satisfied: typing-extensions>=4.8.0 in /usr/local/lib/python3.10/dist-packages (from torch) (4.12.2)\n",
            "Requirement already satisfied: sympy in /usr/local/lib/python3.10/dist-packages (from torch) (1.13.2)\n",
            "Requirement already satisfied: networkx in /usr/local/lib/python3.10/dist-packages (from torch) (3.3)\n",
            "Requirement already satisfied: jinja2 in /usr/local/lib/python3.10/dist-packages (from torch) (3.1.4)\n",
            "Requirement already satisfied: fsspec in /usr/local/lib/python3.10/dist-packages (from torch) (2024.6.1)\n",
            "Requirement already satisfied: numpy in /usr/local/lib/python3.10/dist-packages (from torchvision) (1.26.4)\n",
            "Requirement already satisfied: pillow!=8.3.*,>=5.3.0 in /usr/local/lib/python3.10/dist-packages (from torchvision) (10.4.0)\n",
            "Requirement already satisfied: MarkupSafe>=2.0 in /usr/local/lib/python3.10/dist-packages (from jinja2->torch) (2.1.5)\n",
            "Requirement already satisfied: mpmath<1.4,>=1.1.0 in /usr/local/lib/python3.10/dist-packages (from sympy->torch) (1.3.0)\n"
          ]
        }
      ]
    },
    {
      "cell_type": "code",
      "execution_count": 2,
      "metadata": {
        "id": "YZdN-dhv7hE1"
      },
      "outputs": [],
      "source": [
        "import torch\n",
        "import torch.nn as nn\n",
        "import torch.optim as optim\n",
        "import torch.quantization\n",
        "from torch.quantization import QuantStub, DeQuantStub\n",
        "import torchvision\n",
        "import torch.nn.functional as F\n",
        "import torchvision.transforms as transforms\n",
        "import warnings\n",
        "warnings.filterwarnings('ignore')\n",
        "import os"
      ]
    },
    {
      "cell_type": "code",
      "execution_count": 3,
      "metadata": {
        "colab": {
          "base_uri": "https://localhost:8080/"
        },
        "id": "_jftL9QDhqjS",
        "outputId": "3b03a8d6-7b27-4818-bd0b-15c92d43f176"
      },
      "outputs": [
        {
          "output_type": "stream",
          "name": "stdout",
          "text": [
            "2.4.0+cu121\n"
          ]
        }
      ],
      "source": [
        "print(torch.__version__)"
      ]
    },
    {
      "cell_type": "code",
      "execution_count": 4,
      "metadata": {
        "colab": {
          "base_uri": "https://localhost:8080/"
        },
        "id": "iRUtk4N3lvVb",
        "outputId": "8631e949-97c5-4a5b-a680-0182d28578c4"
      },
      "outputs": [
        {
          "output_type": "execute_result",
          "data": {
            "text/plain": [
              "True"
            ]
          },
          "metadata": {},
          "execution_count": 4
        }
      ],
      "source": [
        "torch.cuda.is_available()\n"
      ]
    },
    {
      "cell_type": "code",
      "execution_count": 5,
      "metadata": {
        "id": "2VMjsz_G71Mg"
      },
      "outputs": [],
      "source": [
        "class LeNet5(nn.Module):\n",
        "    def __init__(self):\n",
        "        super(LeNet5, self).__init__()\n",
        "        self.quant = torch.ao.quantization.QuantStub()\n",
        "        self.conv1 = nn.Conv2d(1, 6, 5)\n",
        "        self.relu1 = nn.ReLU()\n",
        "        self.conv2 = nn.Conv2d(6, 16, 5)\n",
        "        self.relu2 = nn.ReLU()\n",
        "        self.fc1 = nn.Linear(16*4*4, 120)\n",
        "        self.relu3 = nn.ReLU()\n",
        "        self.fc2 = nn.Linear(120, 84)\n",
        "        self.relu4 = nn.ReLU()\n",
        "        self.fc3 = nn.Linear(84, 10)\n",
        "        self.dequant = torch.ao.quantization.DeQuantStub()\n",
        "\n",
        "    def forward(self, x):\n",
        "        x = self.quant(x)\n",
        "        x = self.conv1(x)\n",
        "        x = self.relu1(x)\n",
        "        x = F.max_pool2d(x, 2)\n",
        "        x = self.conv2(x)\n",
        "        x = self.relu2(x)\n",
        "        x = F.max_pool2d(x, 2)\n",
        "        x = x.reshape(-1, 16 * 4 * 4)\n",
        "        x = self.fc1(x)\n",
        "        x = self.relu3(x)\n",
        "        x = self.fc2(x)\n",
        "        x = self.relu4(x)\n",
        "        x = self.fc3(x)\n",
        "        x = self.dequant(x)\n",
        "        return x\n",
        "\n"
      ]
    },
    {
      "cell_type": "code",
      "execution_count": 6,
      "metadata": {
        "colab": {
          "base_uri": "https://localhost:8080/"
        },
        "id": "BuKRKgWi_Aqm",
        "outputId": "30f1d01c-58d6-461d-a243-1a9e2db5e18b"
      },
      "outputs": [
        {
          "output_type": "stream",
          "name": "stdout",
          "text": [
            "LeNet5(\n",
            "  (quant): QuantStub()\n",
            "  (conv1): Conv2d(1, 6, kernel_size=(5, 5), stride=(1, 1))\n",
            "  (relu1): ReLU()\n",
            "  (conv2): Conv2d(6, 16, kernel_size=(5, 5), stride=(1, 1))\n",
            "  (relu2): ReLU()\n",
            "  (fc1): Linear(in_features=256, out_features=120, bias=True)\n",
            "  (relu3): ReLU()\n",
            "  (fc2): Linear(in_features=120, out_features=84, bias=True)\n",
            "  (relu4): ReLU()\n",
            "  (fc3): Linear(in_features=84, out_features=10, bias=True)\n",
            "  (dequant): DeQuantStub()\n",
            ")\n"
          ]
        }
      ],
      "source": [
        "model = LeNet5()\n",
        "print(model)"
      ]
    },
    {
      "cell_type": "code",
      "execution_count": 7,
      "metadata": {
        "id": "FWNQtt638NGC"
      },
      "outputs": [],
      "source": [
        "def print_size_of_model(model, label=\"\"):\n",
        "    torch.save(model.state_dict(), \"temp.p\")\n",
        "    size = os.path.getsize(\"temp.p\")\n",
        "    print(\"Model: \", label, ' \\t', 'Size (KB):', size/1e3)\n",
        "    os.remove('temp.p')\n",
        "    return size\n"
      ]
    },
    {
      "cell_type": "code",
      "execution_count": 8,
      "metadata": {
        "id": "qQypo5XP8rWu"
      },
      "outputs": [],
      "source": [
        "#to convert to tensor and Normalizing\n",
        "transform = transforms.Compose([\n",
        "    transforms.ToTensor(),\n",
        "    transforms.Normalize((0.5,), (0.5,))\n",
        "])"
      ]
    },
    {
      "cell_type": "code",
      "execution_count": 9,
      "metadata": {
        "id": "5Fmy99YABCcV",
        "colab": {
          "base_uri": "https://localhost:8080/"
        },
        "outputId": "bb213d52-4ee4-453e-bdbd-bbac25ab21cd"
      },
      "outputs": [
        {
          "output_type": "stream",
          "name": "stdout",
          "text": [
            "Downloading http://yann.lecun.com/exdb/mnist/train-images-idx3-ubyte.gz\n",
            "Failed to download (trying next):\n",
            "HTTP Error 403: Forbidden\n",
            "\n",
            "Downloading https://ossci-datasets.s3.amazonaws.com/mnist/train-images-idx3-ubyte.gz\n",
            "Downloading https://ossci-datasets.s3.amazonaws.com/mnist/train-images-idx3-ubyte.gz to ./data/MNIST/raw/train-images-idx3-ubyte.gz\n"
          ]
        },
        {
          "output_type": "stream",
          "name": "stderr",
          "text": [
            "100%|██████████| 9912422/9912422 [00:00<00:00, 15403112.37it/s]\n"
          ]
        },
        {
          "output_type": "stream",
          "name": "stdout",
          "text": [
            "Extracting ./data/MNIST/raw/train-images-idx3-ubyte.gz to ./data/MNIST/raw\n",
            "\n",
            "Downloading http://yann.lecun.com/exdb/mnist/train-labels-idx1-ubyte.gz\n",
            "Failed to download (trying next):\n",
            "HTTP Error 403: Forbidden\n",
            "\n",
            "Downloading https://ossci-datasets.s3.amazonaws.com/mnist/train-labels-idx1-ubyte.gz\n",
            "Downloading https://ossci-datasets.s3.amazonaws.com/mnist/train-labels-idx1-ubyte.gz to ./data/MNIST/raw/train-labels-idx1-ubyte.gz\n"
          ]
        },
        {
          "output_type": "stream",
          "name": "stderr",
          "text": [
            "100%|██████████| 28881/28881 [00:00<00:00, 478712.06it/s]\n"
          ]
        },
        {
          "output_type": "stream",
          "name": "stdout",
          "text": [
            "Extracting ./data/MNIST/raw/train-labels-idx1-ubyte.gz to ./data/MNIST/raw\n",
            "\n",
            "Downloading http://yann.lecun.com/exdb/mnist/t10k-images-idx3-ubyte.gz\n",
            "Failed to download (trying next):\n",
            "HTTP Error 403: Forbidden\n",
            "\n",
            "Downloading https://ossci-datasets.s3.amazonaws.com/mnist/t10k-images-idx3-ubyte.gz\n",
            "Downloading https://ossci-datasets.s3.amazonaws.com/mnist/t10k-images-idx3-ubyte.gz to ./data/MNIST/raw/t10k-images-idx3-ubyte.gz\n"
          ]
        },
        {
          "output_type": "stream",
          "name": "stderr",
          "text": [
            "100%|██████████| 1648877/1648877 [00:00<00:00, 4397505.79it/s]\n"
          ]
        },
        {
          "output_type": "stream",
          "name": "stdout",
          "text": [
            "Extracting ./data/MNIST/raw/t10k-images-idx3-ubyte.gz to ./data/MNIST/raw\n",
            "\n",
            "Downloading http://yann.lecun.com/exdb/mnist/t10k-labels-idx1-ubyte.gz\n",
            "Failed to download (trying next):\n",
            "HTTP Error 403: Forbidden\n",
            "\n",
            "Downloading https://ossci-datasets.s3.amazonaws.com/mnist/t10k-labels-idx1-ubyte.gz\n",
            "Downloading https://ossci-datasets.s3.amazonaws.com/mnist/t10k-labels-idx1-ubyte.gz to ./data/MNIST/raw/t10k-labels-idx1-ubyte.gz\n"
          ]
        },
        {
          "output_type": "stream",
          "name": "stderr",
          "text": [
            "100%|██████████| 4542/4542 [00:00<00:00, 4577253.43it/s]"
          ]
        },
        {
          "output_type": "stream",
          "name": "stdout",
          "text": [
            "Extracting ./data/MNIST/raw/t10k-labels-idx1-ubyte.gz to ./data/MNIST/raw\n",
            "\n"
          ]
        },
        {
          "output_type": "stream",
          "name": "stderr",
          "text": [
            "\n"
          ]
        }
      ],
      "source": [
        "trainset = torchvision.datasets.MNIST(\n",
        "    root='./data',\n",
        "    train=True,\n",
        "    download=True,\n",
        "    transform=transform\n",
        ")"
      ]
    },
    {
      "cell_type": "code",
      "execution_count": 10,
      "metadata": {
        "colab": {
          "base_uri": "https://localhost:8080/",
          "height": 452
        },
        "id": "RX7YJLNICTdR",
        "outputId": "2cb0afbd-8ec9-452a-f529-fd70a59129d0"
      },
      "outputs": [
        {
          "output_type": "display_data",
          "data": {
            "text/plain": [
              "<Figure size 640x480 with 1 Axes>"
            ],
            "image/png": "[encoded data removed]"
          },
          "metadata": {}
        }
      ],
      "source": [
        "import matplotlib.pyplot as plt\n",
        "import torchvision\n",
        "import torch\n",
        "\n",
        "image, label = trainset[0]\n",
        "\n",
        "# Convert the image tensor to a NumPy array and display it\n",
        "plt.imshow(image.squeeze(), cmap='gray')\n",
        "plt.title(f\"Label: {label}\")\n",
        "plt.show()\n"
      ]
    },
    {
      "cell_type": "code",
      "execution_count": 11,
      "metadata": {
        "id": "Funw-SQtCvBm"
      },
      "outputs": [],
      "source": [
        "trainloader = torch.utils.data.DataLoader(\n",
        "    trainset,\n",
        "    batch_size = 32,\n",
        "    shuffle = True\n",
        ")"
      ]
    },
    {
      "cell_type": "code",
      "execution_count": 12,
      "metadata": {
        "id": "gPvi06TKDwDZ"
      },
      "outputs": [],
      "source": [
        "testset = torchvision.datasets.MNIST(\n",
        "    root = './data',\n",
        "    train=False,\n",
        "    download=True,\n",
        "    transform=transform\n",
        ")"
      ]
    },
    {
      "cell_type": "code",
      "execution_count": 13,
      "metadata": {
        "id": "0Ae4Txn2EDa0"
      },
      "outputs": [],
      "source": [
        "testloader = torch.utils.data.DataLoader(\n",
        "    testset,\n",
        "    batch_size = 32,\n",
        "    shuffle=False\n",
        ")"
      ]
    },
    {
      "cell_type": "code",
      "execution_count": null,
      "metadata": {
        "colab": {
          "base_uri": "https://localhost:8080/"
        },
        "id": "mJtgsdgO8O4E",
        "outputId": "4ba7f470-7f69-47e1-a803-4fcb2b8f666a"
      },
      "outputs": [
        {
          "output_type": "stream",
          "name": "stdout",
          "text": [
            "Epoch 1, Batch 200, Loss: 2.265826463699341\n",
            "Epoch 1, Batch 400, Loss: 2.1970012187957764\n",
            "Epoch 1, Batch 600, Loss: 0.7098519206047058\n",
            "Epoch 1, Batch 800, Loss: 0.5250412225723267\n",
            "Epoch 1, Batch 1000, Loss: 0.3957173824310303\n",
            "Epoch 1, Batch 1200, Loss: 0.19206924736499786\n",
            "Epoch 1, Batch 1400, Loss: 0.11562684923410416\n",
            "Epoch 1, Batch 1600, Loss: 0.11242236196994781\n",
            "Epoch 1, Batch 1800, Loss: 0.25965917110443115\n",
            "Epoch 2, Batch 200, Loss: 0.05628267675638199\n",
            "Epoch 2, Batch 400, Loss: 0.16401444375514984\n",
            "Epoch 2, Batch 600, Loss: 0.13989506661891937\n",
            "Epoch 2, Batch 800, Loss: 0.141544371843338\n",
            "Epoch 2, Batch 1000, Loss: 0.2874557375907898\n",
            "Epoch 2, Batch 1200, Loss: 0.09116841107606888\n",
            "Epoch 2, Batch 1400, Loss: 0.07637503743171692\n",
            "Epoch 2, Batch 1600, Loss: 0.17604143917560577\n",
            "Epoch 2, Batch 1800, Loss: 0.21454080939292908\n",
            "Epoch 3, Batch 200, Loss: 0.040130600333213806\n",
            "Epoch 3, Batch 400, Loss: 0.11877137422561646\n",
            "Epoch 3, Batch 600, Loss: 0.1333910971879959\n",
            "Epoch 3, Batch 800, Loss: 0.06571074575185776\n",
            "Epoch 3, Batch 1000, Loss: 0.05416484922170639\n",
            "Epoch 3, Batch 1200, Loss: 0.010987830348312855\n",
            "Epoch 3, Batch 1400, Loss: 0.17680753767490387\n",
            "Epoch 3, Batch 1600, Loss: 0.1171480342745781\n",
            "Epoch 3, Batch 1800, Loss: 0.02452743798494339\n",
            "Epoch 4, Batch 200, Loss: 0.010101242922246456\n",
            "Epoch 4, Batch 400, Loss: 0.03602778539061546\n",
            "Epoch 4, Batch 600, Loss: 0.0665283352136612\n",
            "Epoch 4, Batch 800, Loss: 0.10736415535211563\n",
            "Epoch 4, Batch 1000, Loss: 0.039664674550294876\n",
            "Epoch 4, Batch 1200, Loss: 0.1710650622844696\n",
            "Epoch 4, Batch 1400, Loss: 0.01958378776907921\n",
            "Epoch 4, Batch 1600, Loss: 0.23880444467067719\n",
            "Epoch 4, Batch 1800, Loss: 0.03492605686187744\n",
            "Epoch 5, Batch 200, Loss: 0.21908435225486755\n",
            "Epoch 5, Batch 400, Loss: 0.0729253813624382\n",
            "Epoch 5, Batch 600, Loss: 0.03200969845056534\n",
            "Epoch 5, Batch 800, Loss: 0.07513589411973953\n",
            "Epoch 5, Batch 1000, Loss: 0.03111075423657894\n",
            "Epoch 5, Batch 1200, Loss: 0.012529691681265831\n",
            "Epoch 5, Batch 1400, Loss: 0.05462024360895157\n",
            "Epoch 5, Batch 1600, Loss: 0.014509318396449089\n",
            "Epoch 5, Batch 1800, Loss: 0.009845366701483727\n",
            "Finished Training FP32 Model\n"
          ]
        }
      ],
      "source": [
        "\n",
        "fp32_model = LeNet5()\n",
        "criterion = nn.CrossEntropyLoss()\n",
        "optimizer = optim.SGD(fp32_model.parameters(), lr=0.001, momentum=0.9)\n",
        "\n",
        "# Train the model for 5 epochs\n",
        "for epoch in range(5):\n",
        "    for i, (inputs, labels) in enumerate(trainloader):\n",
        "        optimizer.zero_grad()           # Clear previous gradients\n",
        "        outputs = fp32_model(inputs)    # Forward pass: compute predictions\n",
        "        loss = criterion(outputs, labels)  # Compute loss\n",
        "        loss.backward()                 # Backward pass: compute gradients\n",
        "        optimizer.step()                # Update model parameters\n",
        "\n",
        "        # Print loss every 200 batches\n",
        "        if (i + 1) % 200 == 0:\n",
        "            print(f'Epoch {epoch + 1}, Batch {i + 1}, Loss: {loss.item()}')\n",
        "\n",
        "print('Finished Training FP32 Model')\n"
      ]
    },
    {
      "cell_type": "code",
      "source": [
        "import torch\n",
        "import torch.optim as optim\n",
        "import torch.nn as nn\n",
        "import matplotlib.pyplot as plt\n",
        "\n",
        "# Initialize lists to track losses and gradients\n",
        "epoch_losses = []\n",
        "epoch_gradients = []\n",
        "\n",
        "# Train the FP32 model\n",
        "fp32_model = LeNet5()\n",
        "criterion = nn.CrossEntropyLoss()\n",
        "optimizer = optim.SGD(fp32_model.parameters(), lr=0.001, momentum=0.9)\n",
        "\n",
        "# Train for 5 epochs and track loss and gradient magnitude\n",
        "for epoch in range(5):\n",
        "    running_loss = 0.0\n",
        "    total_gradients = 0.0\n",
        "\n",
        "    for i, (inputs, labels) in enumerate(trainloader):\n",
        "        optimizer.zero_grad()  # Clear previous gradients\n",
        "        outputs = fp32_model(inputs)  # Forward pass\n",
        "        loss = criterion(outputs, labels)  # Compute loss\n",
        "\n",
        "        loss.backward()  # Backward pass (compute gradients)\n",
        "\n",
        "        # Track gradient magnitudes to detect vanishing/exploding gradients\n",
        "        total_grads = 0.0\n",
        "        for param in fp32_model.parameters():\n",
        "            if param.grad is not None:\n",
        "                total_grads += param.grad.abs().mean().item()  # Mean gradient magnitude\n",
        "\n",
        "        total_gradients += total_grads\n",
        "        optimizer.step()  # Update model parameters\n",
        "\n",
        "        running_loss += loss.item()\n",
        "\n",
        "    # Calculate the average loss and gradients for this epoch\n",
        "    epoch_loss = running_loss / len(trainloader)\n",
        "    avg_gradients = total_gradients / len(trainloader)\n",
        "\n",
        "    # Store for visualization\n",
        "    epoch_losses.append(epoch_loss)\n",
        "    epoch_gradients.append(avg_gradients)\n",
        "\n",
        "    print(f'Epoch {epoch + 1}, Loss: {epoch_loss:.4f}, Avg Gradients: {avg_gradients:.6f}')\n",
        "\n",
        "print('Finished Training FP32 Model')\n",
        "\n",
        "# Plot the loss curve\n",
        "plt.figure(figsize=(10, 5))\n",
        "plt.subplot(1, 2, 1)\n",
        "plt.plot(range(1, 6), epoch_losses, marker='o')\n",
        "plt.title('Loss per Epoch')\n",
        "plt.xlabel('Epoch')\n",
        "plt.ylabel('Loss')\n",
        "\n",
        "# Plot the gradient magnitudes curve\n",
        "plt.subplot(1, 2, 2)\n",
        "plt.plot(range(1, 6), epoch_gradients, marker='o')\n",
        "plt.title('Average Gradient Magnitude per Epoch')\n",
        "plt.xlabel('Epoch')\n",
        "plt.ylabel('Gradient Magnitude')\n",
        "\n",
        "plt.show()\n"
      ],
      "metadata": {
        "colab": {
          "base_uri": "https://localhost:8080/",
          "height": 496
        },
        "id": "ZvzqPrErCRFE",
        "outputId": "a7a8ed9f-5cac-477f-91fc-eec563ee3976"
      },
      "execution_count": 14,
      "outputs": [
        {
          "output_type": "stream",
          "name": "stdout",
          "text": [
            "Epoch 1, Loss: 1.1954, Avg Gradients: 0.127031\n",
            "Epoch 2, Loss: 0.1488, Avg Gradients: 0.120065\n",
            "Epoch 3, Loss: 0.1000, Avg Gradients: 0.099493\n",
            "Epoch 4, Loss: 0.0794, Avg Gradients: 0.088480\n",
            "Epoch 5, Loss: 0.0677, Avg Gradients: 0.079723\n",
            "Finished Training FP32 Model\n"
          ]
        },
        {
          "output_type": "display_data",
          "data": {
            "text/plain": [
              "<Figure size 1000x500 with 2 Axes>"
            ],
            "image/png": "[encoded data removed]"
          },
          "metadata": {}
        }
      ]
    },
    {
      "cell_type": "code",
      "execution_count": 15,
      "metadata": {
        "id": "dns0gkYp8_x9"
      },
      "outputs": [],
      "source": [
        "dynamic_quantized_model = torch.quantization.quantize_dynamic(\n",
        "    fp32_model,\n",
        "    {torch.nn.Linear},\n",
        "    dtype=torch.qint8\n",
        ")"
      ]
    },
    {
      "cell_type": "code",
      "source": [
        "Static_Quant_Model = LeNet5()\n",
        "#Static_Quant_Model = Static_Quant_Model.to('cuda')\n",
        "inputs = inputs.to('cuda')\n",
        "\n",
        "labels = labels.to('cuda')\n"
      ],
      "metadata": {
        "id": "A_AQzCXJLMWZ"
      },
      "execution_count": 16,
      "outputs": []
    },
    {
      "cell_type": "code",
      "source": [
        "labels.is_cuda"
      ],
      "metadata": {
        "colab": {
          "base_uri": "https://localhost:8080/"
        },
        "id": "_FaLhf8BsdEI",
        "outputId": "cc408447-f0a7-479a-e54f-9b5981a114f0"
      },
      "execution_count": 17,
      "outputs": [
        {
          "output_type": "execute_result",
          "data": {
            "text/plain": [
              "True"
            ]
          },
          "metadata": {},
          "execution_count": 17
        }
      ]
    },
    {
      "cell_type": "code",
      "source": [
        "from torch.utils.data import DataLoader, Subset\n",
        "import numpy as np\n",
        "\n",
        "# Use a subset of the training dataset for calibration\n",
        "calibration_indices = np.random.choice(len(trainset), size=5000, replace=False)\n",
        "calibration_subset = Subset(trainset, calibration_indices)\n",
        "calibration_loader = DataLoader(calibration_subset, batch_size=32, shuffle=False)\n"
      ],
      "metadata": {
        "id": "_Qd0nhAY0-9x"
      },
      "execution_count": 18,
      "outputs": []
    },
    {
      "cell_type": "code",
      "execution_count": 19,
      "metadata": {
        "id": "k4gBxUO3YPo0"
      },
      "outputs": [],
      "source": [
        "Static_Quant_Model.eval()\n",
        "\n",
        "Static_Quant_Model.qconfig = torch.ao.quantization.get_default_qconfig('fbgemm')\n",
        "\n",
        "model_fp32_fused = torch.ao.quantization.fuse_modules(Static_Quant_Model,\n",
        "    [['conv1', 'relu1'], ['conv2', 'relu2']])\n",
        "\n",
        "model_fp32_prepared = torch.ao.quantization.prepare(model_fp32_fused)\n",
        "\n",
        "model_fp32_prepared.eval()\n",
        "with torch.no_grad():\n",
        "    for i, (images, _) in enumerate(calibration_loader):\n",
        "      if i > 50:\n",
        "        break\n",
        "    model_fp32_prepared(images)\n",
        "\n",
        "Static_Quantized_Model = torch.ao.quantization.convert(model_fp32_prepared)\n",
        "\n",
        "\n",
        "# res = Static_Quantized_Model(input_fp32)"
      ]
    },
    {
      "cell_type": "code",
      "source": [
        "def evaluate_model(model, testloader):\n",
        "    model.eval()\n",
        "    correct = 0\n",
        "    total = 0\n",
        "    with torch.no_grad():\n",
        "        for images, labels in testloader:\n",
        "            outputs = model(images)\n",
        "            _, predicted = torch.max(outputs, 1)\n",
        "            total += labels.size(0)\n",
        "            correct += (predicted == labels).sum().item()\n",
        "    accuracy = 100 * correct / total\n",
        "    return accuracy"
      ],
      "metadata": {
        "id": "UaskF_QJwYkv"
      },
      "execution_count": 20,
      "outputs": []
    },
    {
      "cell_type": "code",
      "source": [
        "fp32_model_accuracy = evaluate_model(fp32_model, testloader)\n",
        "dynamic_quantized_model_accuracy = evaluate_model(dynamic_quantized_model, testloader)\n",
        "Static_quantized_model_accuracy = evaluate_model(Static_Quantized_Model, trainloader)"
      ],
      "metadata": {
        "id": "00iyv1ylyYK1"
      },
      "execution_count": 21,
      "outputs": []
    },
    {
      "cell_type": "code",
      "source": [
        "print(f'FP32 Model Accuracy: {fp32_model_accuracy}%')\n",
        "print(f'Dynamic Model Accuracy: {dynamic_quantized_model_accuracy}%')\n",
        "print(f'Static Model Accuracy: {Static_quantized_model_accuracy}%')"
      ],
      "metadata": {
        "colab": {
          "base_uri": "https://localhost:8080/"
        },
        "id": "DBhnVhrczV0Z",
        "outputId": "74ae635c-efde-46e2-fe4b-0a5c26b2df74"
      },
      "execution_count": 22,
      "outputs": [
        {
          "output_type": "stream",
          "name": "stdout",
          "text": [
            "FP32 Model Accuracy: 98.1%\n",
            "Dynamic Model Accuracy: 98.07%\n",
            "Static Model Accuracy: 10.073333333333334%\n"
          ]
        }
      ]
    },
    {
      "cell_type": "code",
      "execution_count": null,
      "metadata": {
        "colab": {
          "base_uri": "https://localhost:8080/"
        },
        "id": "j9EEaETU9C3W",
        "outputId": "78c831ac-62cd-495c-b14f-03ba6f315a25"
      },
      "outputs": [
        {
          "output_type": "stream",
          "name": "stdout",
          "text": [
            "FP32 Model Accuracy: 98.29%\n",
            "Dynamic Quantized Model Accuracy: 98.32%\n",
            "Static Quantized Model Accuracy: 9.8%\n"
          ]
        }
      ],
      "source": [
        "# def evaluate_model(model, testloader):\n",
        "#     correct = 0\n",
        "#     total = 0\n",
        "#     with torch.no_grad():\n",
        "#         for data in testloader:\n",
        "#             images, labels = data\n",
        "#             outputs = model(images)\n",
        "#             _, predicted = torch.max(outputs.data, 1)\n",
        "#             total += labels.size(0)\n",
        "#             correct += (predicted == labels).sum().item()\n",
        "#     accuracy = 100 * correct / total\n",
        "#     return accuracy\n",
        "\n",
        "# fp32_accuracy = evaluate_model(fp32_model, testloader)\n",
        "# dynamic_quantized_accuracy = evaluate_model(dynamic_quantized_model, testloader)\n",
        "# Static_quantized_accuracy = evaluate_model(Static_Quantized_Model, testloader)\n",
        "\n",
        "# print(f'FP32 Model Accuracy: {fp32_accuracy}%')\n",
        "# print(f'Dynamic Quantized Model Accuracy: {dynamic_quantized_accuracy}%')\n",
        "# print(f'Static Quantized Model Accuracy: {Static_quantized_accuracy}%')"
      ]
    },
    {
      "cell_type": "code",
      "execution_count": 23,
      "metadata": {
        "colab": {
          "base_uri": "https://localhost:8080/"
        },
        "id": "GHzxVGoj9M4S",
        "outputId": "9e23547c-90b2-424e-e20a-4b8dc5961a1d"
      },
      "outputs": [
        {
          "output_type": "stream",
          "name": "stdout",
          "text": [
            "Model:  FP32  \t Size (KB): 181.006\n",
            "Model:  INT8  \t Size (KB): 58.09\n",
            "Model:  INT8  \t Size (KB): 181.006\n"
          ]
        }
      ],
      "source": [
        "fp32_model_size = print_size_of_model(fp32_model, \"FP32\")\n",
        "quantized_model_size = print_size_of_model(dynamic_quantized_model, \"INT8\")\n",
        "Static_quantized_model_size = print_size_of_model(Static_Quant_Model, \"INT8\")"
      ]
    },
    {
      "cell_type": "code",
      "execution_count": null,
      "metadata": {
        "colab": {
          "base_uri": "https://localhost:8080/",
          "height": 874
        },
        "id": "WpKBq6BfXrQU",
        "outputId": "99b645ae-a7ef-4035-cfde-3ba45865369b"
      },
      "outputs": [
        {
          "output_type": "stream",
          "name": "stdout",
          "text": [
            "FP32 Model Classification:\n"
          ]
        },
        {
          "output_type": "display_data",
          "data": {
            "text/plain": [
              "<Figure size 640x480 with 1 Axes>"
            ],
            "image/png": "[encoded data removed]"
          },
          "metadata": {}
        },
        {
          "output_type": "stream",
          "name": "stdout",
          "text": [
            "Quantized Model Classification:\n"
          ]
        },
        {
          "output_type": "display_data",
          "data": {
            "text/plain": [
              "<Figure size 640x480 with 1 Axes>"
            ],
            "image/png": "[encoded data removed]"
          },
          "metadata": {}
        }
      ],
      "source": [
        "import matplotlib.pyplot as plt\n",
        "\n",
        "def visualize_single_classification(model, testloader, image_index=54):\n",
        "\n",
        "    dataiter = iter(testloader)\n",
        "    images, labels = next(dataiter)\n",
        "\n",
        "\n",
        "    image = images[image_index]\n",
        "    label = labels[image_index]\n",
        "\n",
        "    # Get the model's prediction\n",
        "    output = model(image.unsqueeze(0))  # Add batch dimension\n",
        "    _, predicted = torch.max(output, 1)\n",
        "\n",
        "    # Plot the image with its predicted and true labels\n",
        "    plt.imshow(image.numpy().squeeze(), cmap='gray')\n",
        "    plt.title(f'Predicted: {predicted.item()}, True: {label.item()}')\n",
        "    plt.axis('off')\n",
        "    plt.show()\n",
        "\n",
        "# Visualize a single image classification for the FP32 model\n",
        "print(\"FP32 Model Classification:\")\n",
        "visualize_single_classification(fp32_model, testloader, image_index=0)\n",
        "\n",
        "# Visualize a single image classification for the quantized model\n",
        "print(\"Quantized Model Classification:\")\n",
        "visualize_single_classification(dynamic_quantized_model, testloader, image_index=0)\n"
      ]
    },
    {
      "cell_type": "code",
      "source": [],
      "metadata": {
        "id": "vd0Oig9iBoDN"
      },
      "execution_count": null,
      "outputs": []
    }
  ],
  "metadata": {
    "colab": {
      "provenance": [],
      "gpuType": "T4",
      "authorship_tag": "ABX9TyPYqCmnbDNoR9LDjGC5t/wF",
      "include_colab_link": true
    },
    "kernelspec": {
      "display_name": "Python 3",
      "name": "python3"
    },
    "language_info": {
      "name": "python"
    },
    "accelerator": "GPU"
  },
  "nbformat": 4,
  "nbformat_minor": 0
}